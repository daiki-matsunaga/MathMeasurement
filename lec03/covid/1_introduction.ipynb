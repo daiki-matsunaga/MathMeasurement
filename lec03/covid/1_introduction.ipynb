{
 "cells": [
  {
   "cell_type": "code",
   "execution_count": null,
   "metadata": {},
   "outputs": [],
   "source": [
    "import json\n",
    "import matplotlib.pyplot as plt\n",
    "import numpy as np\n",
    "import requests\n",
    "\n",
    "data = requests.get(\"https://covid.ourworldindata.org/data/owid-covid-data.json\").json()\n",
    "#f = open('owid-covid-data.json', 'r')\n",
    "#data = json.load(f)\n",
    "\n",
    "print(\"%.1000s ...\" % data)# show only first 1000 strings"
   ]
  },
  {
   "cell_type": "code",
   "execution_count": null,
   "metadata": {},
   "outputs": [],
   "source": [
    "# variable \"data\" contains all data\n",
    "# At first layer, countries are listed\n",
    "\n",
    "for country in data:\n",
    "    print(country, data[country][\"location\"]"
   ]
  },
  {
   "cell_type": "code",
   "execution_count": null,
   "metadata": {},
   "outputs": [],
   "source": [
    "# At second layer, you can access to each country\n",
    "jpn = data[\"JPN\"]\n",
    "print(\"%.1000s ...\" % jpn)# show only first 1000 strings"
   ]
  },
  {
   "cell_type": "code",
   "execution_count": null,
   "metadata": {},
   "outputs": [],
   "source": [
    "# At third layer, you can access to each date\n",
    "print(jpn[\"data\"][0])\n",
    "print(jpn[\"data\"][1])\n",
    "print(\"...\")\n",
    "print(jpn[\"data\"][-2])\n",
    "print(jpn[\"data\"][-1])"
   ]
  },
  {
   "cell_type": "code",
   "execution_count": null,
   "metadata": {},
   "outputs": [],
   "source": [
    "# Now, you can get specific data as\n",
    "print(jpn[\"data\"][-10][\"total_cases\"])\n",
    "print(jpn[\"data\"][-1][\"new_cases\"])"
   ]
  },
  {
   "cell_type": "code",
   "execution_count": null,
   "metadata": {},
   "outputs": [],
   "source": [
    "# time series data\n",
    "value = []\n",
    "for datedata in jpn[\"data\"]:\n",
    "    t = datedata.get(\"new_cases\", \"nan\") # if there is no key, return nan\n",
    "    value.append(float(t)) # add to the list with casting the value from strong to float\n",
    "\n",
    "print(value)\n",
    "fig, ax = plt.subplots()\n",
    "ax.plot(value, 'o')\n",
    "plt.show()"
   ]
  },
  {
   "cell_type": "code",
   "execution_count": null,
   "metadata": {},
   "outputs": [],
   "source": []
  }
 ],
 "metadata": {
  "kernelspec": {
   "display_name": "Python 3",
   "language": "python",
   "name": "python3"
  },
  "language_info": {
   "codemirror_mode": {
    "name": "ipython",
    "version": 3
   },
   "file_extension": ".py",
   "mimetype": "text/x-python",
   "name": "python",
   "nbconvert_exporter": "python",
   "pygments_lexer": "ipython3",
   "version": "3.8.5"
  }
 },
 "nbformat": 4,
 "nbformat_minor": 4
}
