{
 "cells": [
  {
   "cell_type": "code",
   "execution_count": null,
   "metadata": {},
   "outputs": [],
   "source": [
    "import json\n",
    "import matplotlib.pyplot as plt\n",
    "import numpy as np\n",
    "import requests\n",
    "\n",
    "data = requests.get(\"https://covid.ourworldindata.org/data/owid-covid-data.json\").json()\n",
    "#f = open('owid-covid-data.json', 'r')\n",
    "#data = json.load(f)"
   ]
  },
  {
   "cell_type": "code",
   "execution_count": null,
   "metadata": {},
   "outputs": [],
   "source": [
    "print(\"--- Key list for countries:\")\n",
    "for key in data[\"JPN\"]:\n",
    "    print(key)\n",
    "\n",
    "print(\"--- Key list for dates:\")\n",
    "for key in data[\"JPN\"][\"data\"][-1]:\n",
    "    print(key)"
   ]
  },
  {
   "cell_type": "code",
   "execution_count": null,
   "metadata": {},
   "outputs": [],
   "source": [
    "value1 = []\n",
    "value2 = []\n",
    "cname = []\n",
    "key1 = \"population_density\"\n",
    "key2 = \"total_deaths_per_million\"\n",
    "\n",
    "for country in data:\n",
    "    if('OWID' in country): continue # exclude OWID data\n",
    "\n",
    "    t1 = data[country].get(key1, \"nan\")\n",
    "#    t2 = data[country].get(key2, \"nan\")\n",
    "    t2 = data[country][\"data\"][-1].get(key2, \"nan\")\n",
    "\n",
    "    if(t1 != \"nan\" and t2 != \"nan\"):\n",
    "        value1.append(float(t1))\n",
    "        value2.append(float(t2))\n",
    "        cname.append(country)\n",
    "\n",
    "print(\"----- correlation:\", np.corrcoef(value1, value2)[0, 1])\n",
    "\n",
    "fig, ax = plt.subplots()\n",
    "ax.plot(value1, value2, 'o')\n",
    "ax.set_xlabel(key1)\n",
    "ax.set_ylabel(key2)\n",
    "\n",
    "for i, country in enumerate(cname):\n",
    "    ax.annotate(country, (value1[i], value2[i]))\n",
    "\n",
    "ax.set_xscale('log')\n",
    "ax.set_yscale('log')\n",
    "plt.show()"
   ]
  },
  {
   "cell_type": "code",
   "execution_count": null,
   "metadata": {},
   "outputs": [],
   "source": []
  }
 ],
 "metadata": {
  "kernelspec": {
   "display_name": "Python 3",
   "language": "python",
   "name": "python3"
  },
  "language_info": {
   "codemirror_mode": {
    "name": "ipython",
    "version": 3
   },
   "file_extension": ".py",
   "mimetype": "text/x-python",
   "name": "python",
   "nbconvert_exporter": "python",
   "pygments_lexer": "ipython3",
   "version": "3.8.5"
  }
 },
 "nbformat": 4,
 "nbformat_minor": 4
}
