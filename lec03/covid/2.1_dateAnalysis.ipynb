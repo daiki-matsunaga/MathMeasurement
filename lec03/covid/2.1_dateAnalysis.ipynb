{
 "cells": [
  {
   "cell_type": "code",
   "execution_count": null,
   "metadata": {},
   "outputs": [],
   "source": [
    "import json\n",
    "import matplotlib.pyplot as plt\n",
    "import numpy as np\n",
    "import requests\n",
    "\n",
    "data = requests.get(\"https://covid.ourworldindata.org/data/owid-covid-data.json\").json()\n",
    "#f = open('owid-covid-data.json', 'r')\n",
    "#data = json.load(f)\n",
    "\n",
    "country_data = data[\"JPN\"][\"data\"]\n",
    "\n",
    "print(\"Key list:\")\n",
    "for key in country_data[-1]:\n",
    "    print(key)"
   ]
  },
  {
   "cell_type": "code",
   "execution_count": null,
   "metadata": {},
   "outputs": [],
   "source": [
    "value1 = []\n",
    "value2 = []\n",
    "key1 = \"people_fully_vaccinated_per_hundred\"\n",
    "key2 = \"new_cases_per_million\"\n",
    "\n",
    "# get data for each date\n",
    "for datedata in country_data:\n",
    "    t1 = datedata.get(key1, \"nan\") # set value to nan if there is no data\n",
    "    t2 = datedata.get(key2, \"nan\")\n",
    "\n",
    "    if(t1 != \"nan\" and t2 != \"nan\"):\n",
    "        value1.append(float(t1)) # add to the list\n",
    "        value2.append(float(t2))\n",
    "\n",
    "# evaluate correlation\n",
    "print(\"----- correlation:\", np.corrcoef(value1, value2)[0, 1])\n",
    "\n",
    "fig, ax = plt.subplots()\n",
    "ax.plot(value1, value2, 'o')\n",
    "ax.set_xlabel(key1)\n",
    "ax.set_ylabel(key2)\n",
    "plt.show()"
   ]
  }
 ],
 "metadata": {
  "kernelspec": {
   "display_name": "Python 3",
   "language": "python",
   "name": "python3"
  },
  "language_info": {
   "codemirror_mode": {
    "name": "ipython",
    "version": 3
   },
   "file_extension": ".py",
   "mimetype": "text/x-python",
   "name": "python",
   "nbconvert_exporter": "python",
   "pygments_lexer": "ipython3",
   "version": "3.8.5"
  }
 },
 "nbformat": 4,
 "nbformat_minor": 4
}
