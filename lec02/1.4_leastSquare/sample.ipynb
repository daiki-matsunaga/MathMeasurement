{
 "cells": [
  {
   "cell_type": "code",
   "execution_count": null,
   "metadata": {},
   "outputs": [],
   "source": [
    "import numpy as np\n",
    "import matplotlib.pyplot as plt\n",
    "from matplotlib import cm\n",
    "\n",
    "# read data\n",
    "x = np.array([-2.90, -1.72, -0.56, 0.82, 1.70, 2.93])\n",
    "y = np.array([-17.04, -3.50, 3.14, -3.89, -0.23, 19.52])\n",
    "\n",
    "# calculate summations\n",
    "x2  = sum(x**2.0)\n",
    "x4  = sum(x**4.0)\n",
    "x6  = sum(x**6.0)\n",
    "x3y = sum(x**3.0*y)\n",
    "xy  = sum(x*y)\n",
    "\n",
    "# evaluate answer with direct method\n",
    "det   = x6*x2 - x4*x4\n",
    "beta1 = (+x2*x3y - x4*xy)/det \n",
    "beta2 = (-x4*x3y + x6*xy)/det \n",
    "\n",
    "# show answer\n",
    "print(\"answer: \", beta1, beta2)"
   ]
  },
  {
   "cell_type": "code",
   "execution_count": null,
   "metadata": {},
   "outputs": [],
   "source": [
    "# set condition for iterative method\n",
    "tb1 = 0.0\n",
    "tb2 = 0.0\n",
    "alpha = 1.0e-4\n",
    "numStep = 1000\n",
    "\n",
    "# set array for beta1, beta2 trajectory\n",
    "trj_b1 = np.array([])\n",
    "trj_b2 = np.array([])\n",
    "\n",
    "# compute gradient descent\n",
    "for i in range(numStep):\n",
    "    trj_b1 = np.append(trj_b1, tb1)\n",
    "    trj_b2 = np.append(trj_b2, tb2)\n",
    "\n",
    "    d_b1 = -2.0*(x3y - tb1*x6 - tb2*x4)\n",
    "    d_b2 = -2.0*(xy  - tb1*x4 - tb2*x2)\n",
    "\n",
    "    tb1 -= alpha*d_b1\n",
    "    tb2 -= alpha*d_b2\n",
    "    \n",
    "    if(i%100 == 0):\n",
    "        print(\"step %i - (%f, %f)\" % (i, tb1, tb2))"
   ]
  },
  {
   "cell_type": "code",
   "execution_count": null,
   "metadata": {},
   "outputs": [],
   "source": [
    "# function to evaluate error\n",
    "def error(B1, B2):\n",
    "    E = sum(y*y) + B1**2.0*x6 + B2**2.0*x2 \\\n",
    "        - 2.0*B1*x3y - 2.0*B2*xy + 2.0*B1*B2*x4\n",
    "    return E\n",
    "\n",
    "fig, ax = plt.subplots(subplot_kw={\"projection\": \"3d\"})\n",
    "\n",
    "B1 = np.arange(-3, 3, 0.5)\n",
    "B2 = np.arange(-5, 1, 0.5)\n",
    "B1, B2 = np.meshgrid(B1, B2)\n",
    "E = error(B1, B2)\n",
    "\n",
    "# Plot the surface.\n",
    "ax.scatter(beta1, beta2, error(beta1, beta2), c='black', s=100)\n",
    "ax.plot_wireframe(B1, B2, E)\n",
    "ax.plot(trj_b1, trj_b2, error(trj_b1, trj_b2), 'ro')\n",
    "\n",
    "ax.set_xlabel('beta1')\n",
    "ax.set_ylabel('beta2')\n",
    "ax.set_zlabel('error')\n",
    "\n",
    "plt.show()"
   ]
  },
  {
   "cell_type": "code",
   "execution_count": null,
   "metadata": {},
   "outputs": [],
   "source": []
  }
 ],
 "metadata": {
  "kernelspec": {
   "display_name": "Python 3",
   "language": "python",
   "name": "python3"
  },
  "language_info": {
   "codemirror_mode": {
    "name": "ipython",
    "version": 3
   },
   "file_extension": ".py",
   "mimetype": "text/x-python",
   "name": "python",
   "nbconvert_exporter": "python",
   "pygments_lexer": "ipython3",
   "version": "3.8.5"
  }
 },
 "nbformat": 4,
 "nbformat_minor": 5
}
