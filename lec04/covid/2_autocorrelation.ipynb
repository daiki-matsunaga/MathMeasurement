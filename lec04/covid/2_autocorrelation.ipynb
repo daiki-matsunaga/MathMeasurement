{
 "cells": [
  {
   "cell_type": "markdown",
   "metadata": {},
   "source": [
    "### Read data file from online JSON file"
   ]
  },
  {
   "cell_type": "code",
   "execution_count": null,
   "metadata": {},
   "outputs": [],
   "source": [
    "import json\n",
    "import matplotlib.pyplot as plt\n",
    "import numpy as np\n",
    "import requests\n",
    "import datetime as dt\n",
    "import matplotlib.dates as mdates\n",
    "plt.rcParams['figure.dpi'] = 100\n",
    "\n",
    "# set conditions\n",
    "countryCode = \"FRA\"\n",
    "key = \"new_cases\"\n",
    "blue = \"#1f77b4\"\n",
    "orange = \"#ff7f0e\"\n",
    "diffDayMax = +50\n",
    "diffDayMin = -50\n",
    "\n",
    "# read JSON file from URL\n",
    "data = requests.get(\"https://covid.ourworldindata.org/data/owid-covid-data.json\").json()\n",
    "#f = open('owid-covid-data.json', 'r')\n",
    "#data = json.load(f)\n",
    "country_data = data[countryCode][\"data\"]\n",
    "countryName = data[countryCode][\"location\"]\n",
    "\n",
    "# show sample key list\n",
    "print(\"Key list:\")\n",
    "for sample_key in country_data[-2]:\n",
    "    print(sample_key)"
   ]
  },
  {
   "cell_type": "markdown",
   "metadata": {},
   "source": [
    "### Show time-series data"
   ]
  },
  {
   "cell_type": "code",
   "execution_count": null,
   "metadata": {},
   "outputs": [],
   "source": [
    "dates = []\n",
    "value = []\n",
    "\n",
    "for datedata in country_data:\n",
    "    t = datedata.get(key, \"nan\") # if there is no key, return nan\n",
    "    \n",
    "    if(t != \"nan\"):\n",
    "        value.append(float(t)) # add to the list with casting the value from string to float\n",
    "        dates.append(datedata.get(\"date\"))\n",
    "\n",
    "# convert into datatime format\n",
    "dates = [dt.datetime.strptime(d, '%Y-%m-%d').date() for d in dates]\n",
    "\n",
    "# visualize\n",
    "fig, ax = plt.subplots()\n",
    "plt.gca().xaxis.set_major_formatter(mdates.DateFormatter('%Y/%m'))\n",
    "plt.gca().xaxis.set_major_locator(mdates.DayLocator(interval=120))\n",
    "\n",
    "ax.set_title(countryName)\n",
    "ax.plot(dates, value, blue)\n",
    "plt.gcf().autofmt_xdate()\n",
    "ax.set_ylabel(key)\n",
    "plt.show()"
   ]
  },
  {
   "cell_type": "markdown",
   "metadata": {},
   "source": [
    "### Show correlation"
   ]
  },
  {
   "cell_type": "code",
   "execution_count": null,
   "metadata": {},
   "outputs": [],
   "source": [
    "# compute mean and standard deviation \n",
    "v_var  = np.var(value)\n",
    "v_mean = np.mean(value)\n",
    "\n",
    "numDates = len(dates)\n",
    "maxDiffDay = (dates[-1] - dates[0]).days + 1\n",
    "correlSize = 2*(maxDiffDay - 1) + 1\n",
    "diffs = np.arange(- (maxDiffDay - 1), maxDiffDay)\n",
    "correlations = np.zeros([correlSize])\n",
    "counts = np.zeros([correlSize])\n",
    "\n",
    "# compute correlation\n",
    "for i_day in range(numDates):\n",
    "    for j_day in range(numDates):\n",
    "        diffDay = (dates[j_day] - dates[i_day]).days + (maxDiffDay - 1)\n",
    "\n",
    "        correlations[diffDay] += (value[i_day] - v_mean)*(value[j_day] - v_mean)\n",
    "        counts[diffDay] += 1\n",
    "\n",
    "correlations /= v_var*counts\n",
    "\n",
    "# get information of maximum correlation\n",
    "diffs = np.array(diffs)\n",
    "correlations = np.array(correlations)\n",
    "cliped_diffs = diffs[(diffs > diffDayMin) & (diffs < diffDayMax)]\n",
    "cliped_correlations = correlations[(diffs > diffDayMin) & (diffs < diffDayMax)]\n",
    "max_day    = cliped_diffs[cliped_correlations.argmax()]\n",
    "max_correl = cliped_correlations[cliped_correlations.argmax()]\n",
    "\n",
    "print(\"----- Max correlation:\", max_day, max_correl)\n",
    "\n",
    "# visualize\n",
    "fig, ax = plt.subplots()\n",
    "ax.set_title(countryName)\n",
    "ax.plot(diffs, correlations)\n",
    "ax.plot(max_day, max_correl, \"ro\")\n",
    "ax.set_xlabel('diff_day')\n",
    "ax.set_ylabel('correlation')\n",
    "ax.set_xlim([diffDayMin, diffDayMax])\n",
    "plt.show()"
   ]
  },
  {
   "cell_type": "code",
   "execution_count": null,
   "metadata": {},
   "outputs": [],
   "source": []
  }
 ],
 "metadata": {
  "kernelspec": {
   "display_name": "Python 3",
   "language": "python",
   "name": "python3"
  },
  "language_info": {
   "codemirror_mode": {
    "name": "ipython",
    "version": 3
   },
   "file_extension": ".py",
   "mimetype": "text/x-python",
   "name": "python",
   "nbconvert_exporter": "python",
   "pygments_lexer": "ipython3",
   "version": "3.8.5"
  }
 },
 "nbformat": 4,
 "nbformat_minor": 4
}
