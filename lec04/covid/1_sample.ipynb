{
 "cells": [
  {
   "cell_type": "markdown",
   "metadata": {},
   "source": [
    "### Read data file from online JSON file"
   ]
  },
  {
   "cell_type": "code",
   "execution_count": null,
   "metadata": {},
   "outputs": [],
   "source": [
    "import json\n",
    "import matplotlib.pyplot as plt\n",
    "import numpy as np\n",
    "import requests\n",
    "import datetime as dt\n",
    "import matplotlib.dates as mdates\n",
    "plt.rcParams['figure.dpi'] = 100\n",
    "\n",
    "key = \"new_cases\"\n",
    "country_code = \"JPN\"\n",
    "\n",
    "data = requests.get(\"https://covid.ourworldindata.org/data/owid-covid-data.json\").json()\n",
    "#f = open('owid-covid-data.json', 'r')\n",
    "#data = json.load(f)\n",
    "country_data = data[country_code][\"data\"]\n",
    "countryName = data[country_code][\"location\"]\n",
    "\n",
    "print(\"Key list:\")\n",
    "for sample_key in country_data[-1]:\n",
    "    print(sample_key)"
   ]
  },
  {
   "cell_type": "markdown",
   "metadata": {},
   "source": [
    "### Show time-series data"
   ]
  },
  {
   "cell_type": "code",
   "execution_count": null,
   "metadata": {},
   "outputs": [],
   "source": [
    "dates = []\n",
    "value = []\n",
    "\n",
    "for datedata in country_data:\n",
    "    t = datedata.get(key, \"nan\") # if there is no key, return nan\n",
    "    \n",
    "    if(t != \"nan\"):\n",
    "        value.append(float(t)) # add to the list with casting the value from string to float\n",
    "        dates.append(datedata.get(\"date\"))\n",
    "\n",
    "# convert into datatime format\n",
    "dates = [dt.datetime.strptime(d, '%Y-%m-%d').date() for d in dates]\n",
    "\n",
    "# visualize\n",
    "fig, ax = plt.subplots()\n",
    "plt.gca().xaxis.set_major_formatter(mdates.DateFormatter('%Y/%m'))\n",
    "plt.gca().xaxis.set_major_locator(mdates.DayLocator(interval=120))\n",
    "\n",
    "ax.set_title(countryName)\n",
    "ax.plot(dates, value)\n",
    "plt.gcf().autofmt_xdate()\n",
    "ax.set_ylabel(key)\n",
    "plt.show()"
   ]
  },
  {
   "cell_type": "markdown",
   "metadata": {},
   "source": [
    "### Show correlation"
   ]
  },
  {
   "cell_type": "code",
   "execution_count": null,
   "metadata": {},
   "outputs": [],
   "source": [
    "day0 = []\n",
    "day1 = []\n",
    "diff = 1\n",
    "\n",
    "for i in range(len(value) - diff):\n",
    "    day0.append(value[i])\n",
    "    day1.append(value[i + diff])\n",
    "\n",
    "print(\"----- correlation:\", np.corrcoef(day0, day1)[0, 1])\n",
    "\n",
    "# visualize\n",
    "fig, ax = plt.subplots()\n",
    "ax.set_title(countryName)\n",
    "ax.plot(day0, day1, 'o')\n",
    "ax.set_xlabel(key + ': day')\n",
    "ax.set_ylabel(key + ': day + diff_day')\n",
    "plt.show()"
   ]
  },
  {
   "cell_type": "code",
   "execution_count": null,
   "metadata": {},
   "outputs": [],
   "source": []
  }
 ],
 "metadata": {
  "kernelspec": {
   "display_name": "Python 3",
   "language": "python",
   "name": "python3"
  },
  "language_info": {
   "codemirror_mode": {
    "name": "ipython",
    "version": 3
   },
   "file_extension": ".py",
   "mimetype": "text/x-python",
   "name": "python",
   "nbconvert_exporter": "python",
   "pygments_lexer": "ipython3",
   "version": "3.8.5"
  }
 },
 "nbformat": 4,
 "nbformat_minor": 4
}
