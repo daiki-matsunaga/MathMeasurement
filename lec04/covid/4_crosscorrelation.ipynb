{
 "cells": [
  {
   "cell_type": "markdown",
   "metadata": {},
   "source": [
    "### Read data file from online JSON file"
   ]
  },
  {
   "cell_type": "code",
   "execution_count": null,
   "metadata": {},
   "outputs": [],
   "source": [
    "import json\n",
    "import matplotlib.pyplot as plt\n",
    "import numpy as np\n",
    "import requests\n",
    "import datetime as dt\n",
    "import matplotlib.dates as mdates\n",
    "plt.rcParams['figure.dpi'] = 100\n",
    "\n",
    "# set conditions\n",
    "countryCode_a = \"FRA\"\n",
    "countryCode_b = \"DEU\"\n",
    "key = \"new_cases_smoothed\"\n",
    "blue = \"#1f77b4\"\n",
    "orange = \"#ff7f0e\"\n",
    "diffDayMax = +100\n",
    "diffDayMin = -100\n",
    "\n",
    "# read JSON file from URL\n",
    "data = requests.get(\"https://covid.ourworldindata.org/data/owid-covid-data.json\").json()\n",
    "#f = open('owid-covid-data.json', 'r')\n",
    "#data = json.load(f)\n",
    "country_a = data[countryCode_a][\"data\"]\n",
    "country_b = data[countryCode_b][\"data\"]\n",
    "name_a = data[countryCode_a][\"location\"]\n",
    "name_b = data[countryCode_b][\"location\"]\n",
    "\n",
    "# show sample key list\n",
    "print(\"Key list:\")\n",
    "for sample_key in country_a[-2]:\n",
    "    print(sample_key)"
   ]
  },
  {
   "cell_type": "markdown",
   "metadata": {},
   "source": [
    "### Show time-series data "
   ]
  },
  {
   "cell_type": "code",
   "execution_count": null,
   "metadata": {},
   "outputs": [],
   "source": [
    "dates_a = []\n",
    "dates_b = []\n",
    "value_a = []\n",
    "value_b = []\n",
    "\n",
    "for datedata in country_a: # read data of country_a\n",
    "    t = datedata.get(key, \"nan\") # if there is no key, return nan\n",
    "\n",
    "    if(t != \"nan\"):\n",
    "        value_a.append(float(t))\n",
    "        dates_a.append(datedata.get(\"date\"))\n",
    "\n",
    "for datedata in country_b: # read data of country_b\n",
    "    t = datedata.get(key, \"nan\") # if there is no key, return nan\n",
    "\n",
    "    if(t != \"nan\"):\n",
    "        value_b.append(float(t))\n",
    "        dates_b.append(datedata.get(\"date\"))\n",
    "\n",
    "# convert into datatime format\n",
    "dates_a = [dt.datetime.strptime(d, '%Y-%m-%d').date() for d in dates_a]\n",
    "dates_b = [dt.datetime.strptime(d, '%Y-%m-%d').date() for d in dates_b]\n",
    "\n",
    "# visualize\n",
    "fig, ax1 = plt.subplots()\n",
    "plt.gca().xaxis.set_major_formatter(mdates.DateFormatter('%Y/%m'))\n",
    "plt.gca().xaxis.set_major_locator(mdates.DayLocator(interval=120))\n",
    "\n",
    "ax2 = ax1.twinx()\n",
    "ax1.set_title(key)\n",
    "ax1.plot(dates_a, value_a, blue)\n",
    "ax2.plot(dates_b, value_b, orange)\n",
    "plt.gcf().autofmt_xdate()\n",
    "ax1.set_ylabel(name_a, color=blue)\n",
    "ax2.set_ylabel(name_b, color=orange)\n",
    "plt.show()"
   ]
  },
  {
   "cell_type": "markdown",
   "metadata": {},
   "source": [
    "### Show correlation"
   ]
  },
  {
   "cell_type": "code",
   "execution_count": null,
   "metadata": {},
   "outputs": [],
   "source": [
    "# compute mean and standard deviation \n",
    "va_std  = np.std(value_a)\n",
    "va_mean = np.mean(value_a)\n",
    "vb_std  = np.std(value_b)\n",
    "vb_mean = np.mean(value_b)\n",
    "\n",
    "numDates_a = len(dates_a)\n",
    "numDates_b = len(dates_b)\n",
    "maxDiffDay_a = (dates_a[-1] - dates_a[0]).days + 1\n",
    "maxDiffDay_b = (dates_b[-1] - dates_b[0]).days + 1\n",
    "\n",
    "correlSize = maxDiffDay_a + maxDiffDay_b -1\n",
    "diffs = np.arange(- (maxDiffDay_b - 1), maxDiffDay_a)\n",
    "correlations = np.zeros([correlSize])\n",
    "counts = np.zeros([correlSize])\n",
    "\n",
    "# compute correlation\n",
    "for a_day in range(numDates_a):\n",
    "    for b_day in range(numDates_b):\n",
    "        diffDay = (dates_b[b_day] - dates_a[a_day]).days + (maxDiffDay_b - 1)\n",
    "\n",
    "        correlations[diffDay] += (value_a[a_day] - va_mean)*(value_b[b_day] - vb_mean)\n",
    "        counts[diffDay] += 1\n",
    "\n",
    "correlations /= va_std*vb_std*counts\n",
    "\n",
    "# get information of maximum correlation\n",
    "diffs = np.array(diffs)\n",
    "correlations = np.array(correlations)\n",
    "cliped_diffs = diffs[(diffs > diffDayMin) & (diffs < diffDayMax)]\n",
    "cliped_correlations = correlations[(diffs > diffDayMin) & (diffs < diffDayMax)]\n",
    "max_day    = cliped_diffs[cliped_correlations.argmax()]\n",
    "max_correl = cliped_correlations[cliped_correlations.argmax()]\n",
    "\n",
    "print(\"----- Max correlation:\", max_day, max_correl)\n",
    "\n",
    "# visualize\n",
    "fig, ax = plt.subplots()\n",
    "ax.set_title(key)\n",
    "ax.plot(diffs, correlations)\n",
    "ax.plot(max_day, max_correl, \"ro\")\n",
    "ax.set_xlabel('diff_day')\n",
    "ax.set_ylabel('correlation')\n",
    "ax.set_xlim([diffDayMin, diffDayMax])\n",
    "plt.show()"
   ]
  },
  {
   "cell_type": "code",
   "execution_count": null,
   "metadata": {},
   "outputs": [],
   "source": []
  }
 ],
 "metadata": {
  "kernelspec": {
   "display_name": "Python 3",
   "language": "python",
   "name": "python3"
  },
  "language_info": {
   "codemirror_mode": {
    "name": "ipython",
    "version": 3
   },
   "file_extension": ".py",
   "mimetype": "text/x-python",
   "name": "python",
   "nbconvert_exporter": "python",
   "pygments_lexer": "ipython3",
   "version": "3.8.5"
  }
 },
 "nbformat": 4,
 "nbformat_minor": 4
}
